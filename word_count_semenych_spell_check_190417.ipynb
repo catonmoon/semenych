{
 "cells": [
  {
   "cell_type": "code",
   "execution_count": 1,
   "metadata": {
    "collapsed": false,
    "deletable": true,
    "editable": true
   },
   "outputs": [
    {
     "name": "stderr",
     "output_type": "stream",
     "text": [
      "/home/ivan/anaconda3/lib/python3.5/site-packages/sklearn/cross_validation.py:44: DeprecationWarning: This module was deprecated in version 0.18 in favor of the model_selection module into which all the refactored classes and functions are moved. Also note that the interface of the new CV iterators are different from that of this module. This module will be removed in 0.20.\n",
      "  \"This module will be removed in 0.20.\", DeprecationWarning)\n"
     ]
    }
   ],
   "source": [
    "import numpy as np\n",
    "import pandas as pd\n",
    "\n",
    "import matplotlib.pyplot as plt\n",
    "%matplotlib inline\n",
    "\n",
    "from sklearn.model_selection import KFold\n",
    "\n",
    "from sklearn.metrics import log_loss\n",
    "\n",
    "import xgboost as xgb"
   ]
  },
  {
   "cell_type": "code",
   "execution_count": 2,
   "metadata": {
    "collapsed": true,
    "deletable": true,
    "editable": true
   },
   "outputs": [],
   "source": [
    "pd.set_option('display.float_format', lambda x: '%.3f' % x)\n",
    "pd.options.display.max_columns = 999\n",
    "np.set_printoptions(formatter={'float': '{: 0.3f}'.format})"
   ]
  },
  {
   "cell_type": "code",
   "execution_count": 3,
   "metadata": {
    "collapsed": true,
    "deletable": true,
    "editable": true
   },
   "outputs": [],
   "source": [
    "from time import time"
   ]
  },
  {
   "cell_type": "code",
   "execution_count": 4,
   "metadata": {
    "collapsed": true,
    "deletable": true,
    "editable": true
   },
   "outputs": [],
   "source": [
    "X_train = pd.read_csv('train.csv')"
   ]
  },
  {
   "cell_type": "code",
   "execution_count": 15,
   "metadata": {
    "collapsed": true,
    "deletable": true,
    "editable": true
   },
   "outputs": [],
   "source": [
    "def Score(cell):\n",
    "    \n",
    "    words1 = [w.lower() for w in str(cell['question1']).split()]\n",
    "    words2 = [w.lower() for w in str(cell['question2']).split()]\n",
    "    \n",
    "#    return 2 * len([w for w in words1 if w in words2]) / (len(words1) + len(words2))\n",
    "\n",
    "# Все же правильно так в числителе:\n",
    "\n",
    "    return (len([w for w in words1 if w in words2]) + len([w for w in words2 if w in words1])) \\\n",
    "            / (len(words1) + len(words2))\n",
    "\n",
    "# Расхождение может быть из-за длины слов и повторений !\n"
   ]
  },
  {
   "cell_type": "code",
   "execution_count": 6,
   "metadata": {
    "collapsed": false,
    "deletable": true,
    "editable": true
   },
   "outputs": [
    {
     "name": "stdout",
     "output_type": "stream",
     "text": [
      "final time 33.38507437705994\n"
     ]
    }
   ],
   "source": [
    "start = time()\n",
    "\n",
    "X_train['score'] = X_train.apply(Score, axis=1)\n",
    "\n",
    "print ('final time', time() - start)"
   ]
  },
  {
   "cell_type": "code",
   "execution_count": 16,
   "metadata": {
    "collapsed": false,
    "deletable": true,
    "editable": true
   },
   "outputs": [
    {
     "name": "stdout",
     "output_type": "stream",
     "text": [
      "final time 35.43504023551941\n"
     ]
    }
   ],
   "source": [
    "# Посчитаем по-новому\n",
    "\n",
    "start = time()\n",
    "\n",
    "X_train['score2'] = X_train.apply(Score, axis=1)\n",
    "\n",
    "print ('final time', time() - start)"
   ]
  },
  {
   "cell_type": "code",
   "execution_count": 10,
   "metadata": {
    "collapsed": false,
    "deletable": true,
    "editable": true
   },
   "outputs": [
    {
     "data": {
      "text/plain": [
       "0.000    22369\n",
       "0.667    16291\n",
       "0.500    14773\n",
       "0.400    11352\n",
       "0.333     8696\n",
       "0.571     8477\n",
       "0.286     6986\n",
       "0.800     6643\n",
       "0.444     6633\n",
       "0.250     6015\n",
       "Name: score, dtype: int64"
      ]
     },
     "execution_count": 10,
     "metadata": {},
     "output_type": "execute_result"
    }
   ],
   "source": [
    "X_train['score'].value_counts().iloc[:10]"
   ]
  },
  {
   "cell_type": "code",
   "execution_count": 17,
   "metadata": {
    "collapsed": false
   },
   "outputs": [
    {
     "data": {
      "text/plain": [
       "0.000    22369\n",
       "0.500    14803\n",
       "0.667    14375\n",
       "0.400     9674\n",
       "0.333     8752\n",
       "0.571     7305\n",
       "0.250     5995\n",
       "0.800     5963\n",
       "0.286     5924\n",
       "0.750     5851\n",
       "Name: score2, dtype: int64"
      ]
     },
     "execution_count": 17,
     "metadata": {},
     "output_type": "execute_result"
    }
   ],
   "source": [
    "X_train['score2'].value_counts().iloc[:10]"
   ]
  },
  {
   "cell_type": "code",
   "execution_count": 18,
   "metadata": {
    "collapsed": true,
    "deletable": true,
    "editable": true
   },
   "outputs": [],
   "source": [
    "# Groups out of scores\n",
    "\n",
    "X_train['score_group'] = ((X_train['score'] * 100).round()).astype(int)"
   ]
  },
  {
   "cell_type": "code",
   "execution_count": 19,
   "metadata": {
    "collapsed": false,
    "deletable": true,
    "editable": true
   },
   "outputs": [
    {
     "data": {
      "text/plain": [
       "121"
      ]
     },
     "execution_count": 19,
     "metadata": {},
     "output_type": "execute_result"
    }
   ],
   "source": [
    "len(X_train['score_group'].value_counts())"
   ]
  },
  {
   "cell_type": "code",
   "execution_count": 20,
   "metadata": {
    "collapsed": false,
    "deletable": true,
    "editable": true
   },
   "outputs": [
    {
     "data": {
      "text/plain": [
       "0     22369\n",
       "67    16291\n",
       "50    14774\n",
       "40    11355\n",
       "62     9488\n",
       "33     9103\n",
       "38     8871\n",
       "53     8631\n",
       "57     8510\n",
       "71     8226\n",
       "Name: score_group, dtype: int64"
      ]
     },
     "execution_count": 20,
     "metadata": {},
     "output_type": "execute_result"
    }
   ],
   "source": [
    "X_train['score_group'].value_counts().iloc[:10]"
   ]
  },
  {
   "cell_type": "code",
   "execution_count": 58,
   "metadata": {
    "collapsed": false,
    "deletable": true,
    "editable": true
   },
   "outputs": [
    {
     "data": {
      "text/plain": [
       "<matplotlib.axes._subplots.AxesSubplot at 0x7ff753d80390>"
      ]
     },
     "execution_count": 58,
     "metadata": {},
     "output_type": "execute_result"
    },
    {
     "data": {
      "image/png": "[encoded data removed]",
      "text/plain": [
       "<matplotlib.figure.Figure at 0x7ff753fe66a0>"
      ]
     },
     "metadata": {},
     "output_type": "display_data"
    }
   ],
   "source": [
    "X_train['score_group'].hist()"
   ]
  },
  {
   "cell_type": "code",
   "execution_count": null,
   "metadata": {
    "collapsed": true
   },
   "outputs": [],
   "source": [
    "# Let's do XGBoost just with just score and score_group..."
   ]
  },
  {
   "cell_type": "code",
   "execution_count": 26,
   "metadata": {
    "collapsed": false,
    "deletable": true,
    "editable": true
   },
   "outputs": [
    {
     "name": "stdout",
     "output_type": "stream",
     "text": [
      "Results: [0.54940352297556172, 0.54789963135665087, 0.54591774101478707]\n",
      "Mean: 0.547740298449\n"
     ]
    }
   ],
   "source": [
    "# Base results\n",
    "\n",
    "params = {'objective':'binary:logistic',\n",
    "         'n_estimators':100,\n",
    "         'learning_rate':0.02,\n",
    "         'max_depth':3,\n",
    "         'nthread':-1,\n",
    "         'base_score':0.5}\n",
    "\n",
    "clf = xgb.XGBClassifier(**params)\n",
    "\n",
    "kf = KFold(n_splits=3, shuffle=True, random_state=42)\n",
    "\n",
    "result = []\n",
    "\n",
    "for train, test in kf.split(X_train):\n",
    "    \n",
    "    data_train = X_train.iloc[train][['id','score','score_group','is_duplicate']]\n",
    "    data_test = X_train.iloc[test][['id','score','score_group','is_duplicate']]\n",
    "    \n",
    "    clf.fit(data_train[['id','score','score_group']], data_train['is_duplicate'])\n",
    "\n",
    "    pred = clf.predict_proba(data_test[['id','score','score_group']])\n",
    "    true = data_test['is_duplicate'].values\n",
    "    \n",
    "#    xgb.plot_importance(clf)\n",
    "    \n",
    "    result += [log_loss(true, pred)]\n",
    "       \n",
    "    \n",
    "print ('Results:', [result[i] for i in range(len(result))])\n",
    "print ('Mean:', pd.DataFrame(result).mean()[0])"
   ]
  },
  {
   "cell_type": "code",
   "execution_count": 23,
   "metadata": {
    "collapsed": false,
    "deletable": true,
    "editable": true
   },
   "outputs": [
    {
     "name": "stdout",
     "output_type": "stream",
     "text": [
      "Results: [0.54461859704000626, 0.54277195660910127, 0.54036990542553265]\n",
      "Mean: 0.542586819692\n"
     ]
    }
   ],
   "source": [
    "# Check this out:\n",
    "# I am checking two ideas which both give me more boost than Semenych or spell check!!!\n",
    "# First. Why don't we set a base_score of 0.17 as it is the 'base' prediction (globalmean)\n",
    "\n",
    "params = {'objective':'binary:logistic',\n",
    "         'n_estimators':100,\n",
    "         'learning_rate':0.02,\n",
    "         'max_depth':3,\n",
    "         'nthread':-1,\n",
    "         'base_score':0.17}\n",
    "\n",
    "clf = xgb.XGBClassifier(**params)\n",
    "\n",
    "kf = KFold(n_splits=3, shuffle=True, random_state=42)\n",
    "\n",
    "result = []\n",
    "\n",
    "for train, test in kf.split(X_train):\n",
    "    \n",
    "    data_train = X_train.iloc[train][['id','score','score_group','is_duplicate']]\n",
    "    data_test = X_train.iloc[test][['id','score','score_group','is_duplicate']]\n",
    "    \n",
    "    clf.fit(data_train[['id','score','score_group']], data_train['is_duplicate'])\n",
    "\n",
    "    pred = clf.predict_proba(data_test[['id','score','score_group']])\n",
    "    true = data_test['is_duplicate'].values\n",
    "    \n",
    "#    xgb.plot_importance(clf)\n",
    "    \n",
    "    result += [log_loss(true, pred)]\n",
    "       \n",
    "    \n",
    "print ('Results:', [result[i] for i in range(len(result))])\n",
    "print ('Mean:', pd.DataFrame(result).mean()[0])"
   ]
  },
  {
   "cell_type": "code",
   "execution_count": 24,
   "metadata": {
    "collapsed": false,
    "deletable": true,
    "editable": true
   },
   "outputs": [
    {
     "name": "stdout",
     "output_type": "stream",
     "text": [
      "Results: [0.54063935064497581, 0.53916813187443746, 0.53663928723845045]\n",
      "Mean: 0.538815589919\n"
     ]
    }
   ],
   "source": [
    "# Second. Why don't we use the correct score2 instead of score.\n",
    "\n",
    "params = {'objective':'binary:logistic',\n",
    "         'n_estimators':100,\n",
    "         'learning_rate':0.02,\n",
    "         'max_depth':3,\n",
    "         'nthread':-1,\n",
    "         'base_score':0.17}\n",
    "\n",
    "clf = xgb.XGBClassifier(**params)\n",
    "\n",
    "kf = KFold(n_splits=3, shuffle=True, random_state=42)\n",
    "\n",
    "result = []\n",
    "\n",
    "for train, test in kf.split(X_train):\n",
    "    \n",
    "    data_train = X_train.iloc[train][['id','score2','score_group','is_duplicate']]\n",
    "    data_test = X_train.iloc[test][['id','score2','score_group','is_duplicate']]\n",
    "    \n",
    "    clf.fit(data_train[['id','score2','score_group']], data_train['is_duplicate'])\n",
    "\n",
    "    pred = clf.predict_proba(data_test[['id','score2','score_group']])\n",
    "    true = data_test['is_duplicate'].values\n",
    "    \n",
    "#    xgb.plot_importance(clf)\n",
    "    \n",
    "    result += [log_loss(true, pred)]\n",
    "       \n",
    "    \n",
    "print ('Results:', [result[i] for i in range(len(result))])\n",
    "print ('Mean:', pd.DataFrame(result).mean()[0])\n",
    "\n",
    "# Both base_score=0.17 and score 2 instead of score "
   ]
  },
  {
   "cell_type": "raw",
   "metadata": {},
   "source": [
    "# Corrected to score2\n",
    "Results: [0.54461859704000626, 0.54277195660910127, 0.54036990542553265]\n",
    "Mean: 0.542586819692"
   ]
  },
  {
   "cell_type": "raw",
   "metadata": {},
   "source": [
    "# Base score\n",
    "Results: [0.54940352297556172, 0.54789963135665087, 0.54591774101478707]\n",
    "Mean: 0.547740298449"
   ]
  },
  {
   "cell_type": "code",
   "execution_count": null,
   "metadata": {
    "collapsed": true
   },
   "outputs": [],
   "source": []
  },
  {
   "cell_type": "markdown",
   "metadata": {
    "deletable": true,
    "editable": true
   },
   "source": [
    "# Time for Semenych"
   ]
  },
  {
   "cell_type": "code",
   "execution_count": 13,
   "metadata": {
    "collapsed": true,
    "deletable": true,
    "editable": true
   },
   "outputs": [],
   "source": [
    "def Semenych(data_train, data_test, N_SPLITS=3, alpha=10):\n",
    "\n",
    "    # At first we need to split the train and use these splits to calculate\n",
    "    # semen (I understand English, it's just to make it more memorable) \n",
    "    # for each split using other splits to avoid over-fitting.\n",
    "\n",
    "    # Instead of using another k-fold, I construct my own splitting. \n",
    "\n",
    "    # Reset index. Will reset it back at the end.\n",
    "    data_train = data_train.reset_index()\n",
    "    \n",
    "    # What if columns have different names? We need the order, but the names are unimportant.\n",
    "    # The order: ['cat_group_var','semen_var','Y']\n",
    "    \n",
    "    columns_old_train = data_train.columns\n",
    "    columns_old_test = data_test.columns\n",
    "        \n",
    "    data_train.columns = ['index','price_group_2','semen_price','Y']\n",
    "    data_test.columns = ['price_group_2','semen_price','Y']\n",
    "    \n",
    "    data_train['semen_price'] = 0.0 # Initialize, nothing more\n",
    "    data_test['semen_price'] = 0.0\n",
    "    data_test['Y'] = 0 # Usually there is none\n",
    "    \n",
    "    # Let's prepare unique categories (I sort them for beauty). Need those combined with test's. \n",
    "    unique_cats = sorted(np.unique(np.hstack((data_train['price_group_2'].unique(),data_test['price_group_2'].unique()))))\n",
    "        \n",
    "    ## Prepare splits for train\n",
    "\n",
    "    # Sizes are made like scikit-learn's\n",
    "\n",
    "    N_SAMPLES = len(data_train)\n",
    "\n",
    "    # (\"sizes\" dict) contains sizes of each split\n",
    "    sizes = {}\n",
    "\n",
    "    first_n = N_SAMPLES % N_SPLITS\n",
    "\n",
    "    for i in range(N_SPLITS):\n",
    "        if i < first_n:\n",
    "            sizes[i] = (N_SAMPLES // N_SPLITS + 1)\n",
    "        else:\n",
    "            sizes[i] = (N_SAMPLES // N_SPLITS)\n",
    "    \n",
    "##########################################################################################################\n",
    "## Precalculate local and global sums and nrows for each split\n",
    "\n",
    "    # Initialize containers:\n",
    "\n",
    "    # globalsum is a sum of the target values for the whole train\n",
    "    globalsum = {}\n",
    "    \n",
    "    # localsum is a sum of the target values for each category (aka cat) for the whole train\n",
    "    localsum = {}\n",
    "    \n",
    "    # nrows is the number of rows for each cat for the whole train\n",
    "    nrows = {}\n",
    "    \n",
    "    # Take each split\n",
    "    for split in range(N_SPLITS):\n",
    "        \n",
    "        # Prepare indicies\n",
    "        \n",
    "        if split == 0:\n",
    "            start = 0\n",
    "        else:\n",
    "            start += sizes[split-1]\n",
    "        \n",
    "        end = start + sizes[split]\n",
    "        \n",
    "        # Prepare a separate data container for this split (for the ease of notation)\n",
    "        calc_data = data_train.iloc[start:end]\n",
    "        \n",
    "        # For this split calculate the sum of target (to use later to calculate the globalmean) \n",
    "        globalsum[split] = calc_data['Y'].sum()\n",
    "         \n",
    "        # Initialize containers for this split to hold values for each cat\n",
    "        # for the sum and for the number of observations \n",
    "        localsum_split = {}\n",
    "        nrows_split = {}\n",
    "\n",
    "        # Initialize every cat because not all of them may be used in the split, but we don't want NaNs\n",
    "        for cat in unique_cats:\n",
    "            localsum_split[cat] = 0\n",
    "            nrows_split[cat] = 0\n",
    "            \n",
    "        # For each cat in this particular split, calculate the sum and the count, and store them in containers\n",
    "        for cat in calc_data['price_group_2'].unique():\n",
    "            localsum_split[cat] = calc_data.loc[calc_data['price_group_2'] == cat,'Y'].sum()\n",
    "            nrows_split[cat] = calc_data.loc[calc_data['price_group_2'] == cat,'Y'].count()\n",
    "            \n",
    "        # Now store this split's sum and count in contrainers for the whole train \n",
    "        localsum[split] = localsum_split\n",
    "        nrows[split] = nrows_split\n",
    "        \n",
    "##########################################################################################################\n",
    "## Calculate semen for each split \n",
    "# using precalculated  \n",
    "# (globalsum and sizes) and (localsums and nrows for each cat)\n",
    "# for other splits \n",
    "\n",
    "    for split in range(N_SPLITS):\n",
    "        \n",
    "        # print ('split', split)\n",
    "        \n",
    "        # Define other splits which will be used as suppliers of everything related to targets\n",
    "        # except for nrows which will be used from this split        \n",
    "        other_splits = [other_split for other_split in range(N_SPLITS) if other_split != split]\n",
    "        \n",
    "        # If there are no other_splits then quit\n",
    "        if  len(other_splits)==0:\n",
    "            break\n",
    "        \n",
    "        # print ('other_slpits', other_splits)\n",
    "        \n",
    "        # Initialize containers for this split's variables\n",
    "        total_gsum = 0\n",
    "        total_size = 0\n",
    "        \n",
    "        total_sum = {}\n",
    "        total_nrows = {}\n",
    "        \n",
    "        # Empty all cats\n",
    "        for cat in unique_cats:\n",
    "            total_sum[cat] = 0\n",
    "            total_nrows[cat] = 0\n",
    "            \n",
    "        # Now let's go over every other split \n",
    "        for other_split in other_splits:            \n",
    "\n",
    "            # and sum all their globalsum and size\n",
    "            total_gsum += globalsum[other_split]\n",
    "            total_size += sizes[other_split]\n",
    "\n",
    "            # and sum and nrows for each cat\n",
    "            for cat in unique_cats:\n",
    "                total_sum[cat] += localsum[other_split][cat]\n",
    "                total_nrows[cat] += nrows[other_split][cat]\n",
    "\n",
    "        # To arrive at globalmean (from other splits)\n",
    "        globalmean = total_gsum / total_size\n",
    "\n",
    "        # print (globalmean)\n",
    "                \n",
    "        # Now, the time has come...\n",
    "        # ...for Semenych!\n",
    "\n",
    "        # Initialize the semen container (I know about the name) \n",
    "        semen = {}\n",
    "\n",
    "        # Prepare indicies for the split to add semen_price to data\n",
    "        if split == 0:\n",
    "            start = 0\n",
    "        else:\n",
    "            start += sizes[split-1]\n",
    "        \n",
    "        end = start + sizes[split]\n",
    "        \n",
    "        # print (start, end)\n",
    "        \n",
    "        # For each cat, calculate \"semen\" (sorry for the name but it's kinda sticking) \n",
    "        for cat in unique_cats:\n",
    "        \n",
    "            # Here is the formula. Notice that I calculate the means myself, making sure I don't divide by zero.\n",
    "            semen[cat] = (\n",
    "                        (total_sum[cat] / (1 if total_nrows[cat]==0 else total_nrows[cat])) \\\n",
    "                        * nrows[split][cat] \\\n",
    "                        + globalmean * alpha) \\\n",
    "                        / (nrows[split][cat] + alpha)\n",
    "\n",
    "            # Now let's return semen for the split  \n",
    "            data_train.loc[(data_train.index>=start) & \\\n",
    "                           (data_train.index<end) & \\\n",
    "                           (data_train['price_group_2'] == cat), 'semen_price'] = semen[cat]\n",
    "                   \n",
    "##########################################################################################################\n",
    "# OK, let's prepare test data\n",
    "\n",
    "# Let's use the whole train and \n",
    "# to calculate \n",
    "# global and local means for the test \n",
    "\n",
    "\n",
    "    # Initialize containers\n",
    "    total_gsum = 0\n",
    "    total_size = 0\n",
    "\n",
    "    total_sum = {}\n",
    "    total_nrows = {}\n",
    "\n",
    "    # Empty all cats\n",
    "    for cat in unique_cats:\n",
    "        total_sum[cat] = 0\n",
    "        total_nrows[cat] = 0\n",
    "            \n",
    "    # Calculate over all splits       \n",
    "    for split in range(N_SPLITS):\n",
    "\n",
    "        # sum all globalsum and size\n",
    "        total_gsum += globalsum[split]\n",
    "        total_size += sizes[split]\n",
    "\n",
    "        # and sum and nrows for each cat\n",
    "        for cat in unique_cats:\n",
    "            total_sum[cat] += localsum[split][cat]\n",
    "            total_nrows[cat] += nrows[split][cat]\n",
    "\n",
    "    # To arrive at globalmean (from all splits)\n",
    "    globalmean = total_gsum / total_size\n",
    "\n",
    "    # print (globalmean)\n",
    "\n",
    "    # Now, the time has come... for Semenych for the test\n",
    "\n",
    "    # Calculate nrows for the test\n",
    "    nrows_test = {}\n",
    "\n",
    "    # Initialize every cat because not all of them may be used in test, and we don't want the likes of NaNs\n",
    "    for cat in unique_cats:\n",
    "        nrows_test[cat] = 0\n",
    "            \n",
    "    # For each cat in test, calculate the count\n",
    "    for cat in data_test['price_group_2'].unique():\n",
    "        nrows_test[cat] = data_test.loc[data_test['price_group_2'] == cat,'price_group_2'].count()\n",
    "        \n",
    "    # Initialize the semen container \n",
    "    semen = {}\n",
    "    \n",
    "    # For each cat, calculate \"semen\" \n",
    "    for cat in unique_cats:\n",
    "\n",
    "        semen[cat] = (\n",
    "                    (total_sum[cat] / (1 if total_nrows[cat]==0 else total_nrows[cat])) \\\n",
    "                    * nrows_test[cat] \\\n",
    "                    + globalmean * alpha) \\\n",
    "                    / (nrows_test[cat] + alpha)\n",
    "\n",
    "        # Now let's return semen for the test  \n",
    "        data_test.loc[(data_test['price_group_2'] == cat), 'semen_price'] = semen[cat]\n",
    "    \n",
    "    data_train.columns = columns_old_train\n",
    "    data_test.columns = columns_old_test\n",
    "    \n",
    "    return [data_train.set_index('index'), data_test]"
   ]
  },
  {
   "cell_type": "markdown",
   "metadata": {
    "deletable": true,
    "editable": true
   },
   "source": [
    "# Easy Semenych: one feature"
   ]
  },
  {
   "cell_type": "code",
   "execution_count": 25,
   "metadata": {
    "collapsed": true,
    "deletable": true,
    "editable": true
   },
   "outputs": [],
   "source": [
    "from sklearn.model_selection import train_test_split"
   ]
  },
  {
   "cell_type": "code",
   "execution_count": 72,
   "metadata": {
    "collapsed": false,
    "deletable": true,
    "editable": true
   },
   "outputs": [],
   "source": [
    "# I removed confusing '_' from the name, mind this\n",
    "\n",
    "Xtrain, Xtest, ytrain, ytest = train_test_split(X_train, X_train, \\\n",
    "                                                    test_size=0.5, random_state=44) #42, 43, 44 - seeds \n",
    "                                                                                    # to calculate the mean"
   ]
  },
  {
   "cell_type": "code",
   "execution_count": 73,
   "metadata": {
    "collapsed": false,
    "deletable": true,
    "editable": true
   },
   "outputs": [
    {
     "name": "stderr",
     "output_type": "stream",
     "text": [
      "/home/ivan/anaconda3/lib/python3.5/site-packages/ipykernel/__main__.py:7: SettingWithCopyWarning: \n",
      "A value is trying to be set on a copy of a slice from a DataFrame.\n",
      "Try using .loc[row_indexer,col_indexer] = value instead\n",
      "\n",
      "See the caveats in the documentation: http://pandas.pydata.org/pandas-docs/stable/indexing.html#indexing-view-versus-copy\n",
      "/home/ivan/anaconda3/lib/python3.5/site-packages/ipykernel/__main__.py:8: SettingWithCopyWarning: \n",
      "A value is trying to be set on a copy of a slice from a DataFrame.\n",
      "Try using .loc[row_indexer,col_indexer] = value instead\n",
      "\n",
      "See the caveats in the documentation: http://pandas.pydata.org/pandas-docs/stable/indexing.html#indexing-view-versus-copy\n",
      "/home/ivan/anaconda3/lib/python3.5/site-packages/ipykernel/__main__.py:21: SettingWithCopyWarning: \n",
      "A value is trying to be set on a copy of a slice from a DataFrame.\n",
      "Try using .loc[row_indexer,col_indexer] = value instead\n",
      "\n",
      "See the caveats in the documentation: http://pandas.pydata.org/pandas-docs/stable/indexing.html#indexing-view-versus-copy\n",
      "/home/ivan/anaconda3/lib/python3.5/site-packages/ipykernel/__main__.py:22: SettingWithCopyWarning: \n",
      "A value is trying to be set on a copy of a slice from a DataFrame.\n",
      "Try using .loc[row_indexer,col_indexer] = value instead\n",
      "\n",
      "See the caveats in the documentation: http://pandas.pydata.org/pandas-docs/stable/indexing.html#indexing-view-versus-copy\n",
      "/home/ivan/anaconda3/lib/python3.5/site-packages/pandas/core/indexing.py:477: SettingWithCopyWarning: \n",
      "A value is trying to be set on a copy of a slice from a DataFrame.\n",
      "Try using .loc[row_indexer,col_indexer] = value instead\n",
      "\n",
      "See the caveats in the documentation: http://pandas.pydata.org/pandas-docs/stable/indexing.html#indexing-view-versus-copy\n",
      "  self.obj[item] = s\n"
     ]
    },
    {
     "name": "stdout",
     "output_type": "stream",
     "text": [
      "score_group\n",
      "10.193180799484253\n"
     ]
    },
    {
     "name": "stderr",
     "output_type": "stream",
     "text": [
      "/home/ivan/anaconda3/lib/python3.5/site-packages/ipykernel/__main__.py:17: SettingWithCopyWarning: \n",
      "A value is trying to be set on a copy of a slice from a DataFrame.\n",
      "Try using .loc[row_indexer,col_indexer] = value instead\n",
      "\n",
      "See the caveats in the documentation: http://pandas.pydata.org/pandas-docs/stable/indexing.html#indexing-view-versus-copy\n",
      "/home/ivan/anaconda3/lib/python3.5/site-packages/ipykernel/__main__.py:18: SettingWithCopyWarning: \n",
      "A value is trying to be set on a copy of a slice from a DataFrame.\n",
      "Try using .loc[row_indexer,col_indexer] = value instead\n",
      "\n",
      "See the caveats in the documentation: http://pandas.pydata.org/pandas-docs/stable/indexing.html#indexing-view-versus-copy\n"
     ]
    }
   ],
   "source": [
    "start = time()\n",
    "\n",
    "cat_features = ['score_group']\n",
    "\n",
    "for feature in cat_features:\n",
    "    \n",
    "    Xtrain['sem_' + feature] = 0\n",
    "    Xtest['sem_' + feature] = 0\n",
    "    \n",
    "    data_train = Xtrain[[feature, 'sem_' + feature, 'is_duplicate']]\n",
    "    data_test = Xtest[[feature, 'sem_' + feature, 'is_duplicate']]\n",
    "    \n",
    "    sem_results = Semenych(data_train, data_test, N_SPLITS=3, alpha=10)\n",
    "    \n",
    "    print (feature)\n",
    "    \n",
    "    Xtrain['sem_' + feature] = sem_results[0]['sem_' + feature]\n",
    "    Xtest['sem_' + feature] = sem_results[1]['sem_' + feature]\n",
    "    \n",
    "print (time() - start)"
   ]
  },
  {
   "cell_type": "code",
   "execution_count": 74,
   "metadata": {
    "collapsed": false,
    "deletable": true,
    "editable": true
   },
   "outputs": [
    {
     "name": "stdout",
     "output_type": "stream",
     "text": [
      "0.546307047635\n"
     ]
    },
    {
     "data": {
      "image/png": "[encoded data removed]",
      "text/plain": [
       "<matplotlib.figure.Figure at 0x7ff78dd285f8>"
      ]
     },
     "metadata": {},
     "output_type": "display_data"
    }
   ],
   "source": [
    "params = {'objective':'binary:logistic',\n",
    "         'n_estimators':100,\n",
    "         'learning_rate':0.02,\n",
    "         'max_depth':3,\n",
    "         'nthread':-1,\n",
    "         'base_score':0.5}\n",
    "\n",
    "clf = xgb.XGBClassifier(**params)\n",
    "\n",
    "data_train = Xtrain[['id','score','score_group','sem_score_group','is_duplicate']]\n",
    "data_test = Xtest[['id','score','score_group','sem_score_group','is_duplicate']]\n",
    "    \n",
    "clf.fit(data_train[['id','score','score_group','sem_score_group']], data_train['is_duplicate'])\n",
    "\n",
    "pred = clf.predict_proba(data_test[['id','score','score_group','sem_score_group']])\n",
    "true = data_test['is_duplicate'].values\n",
    "\n",
    "xgb.plot_importance(clf)\n",
    "\n",
    "print (log_loss(true, pred))\n",
    "\n",
    "# 0.546911660588\n",
    "# 0.545876360233\n",
    "# 0.546307047635\n",
    "\n",
    "\n",
    "#result += [log_loss(true, pred)]\n",
    "       \n",
    "    \n",
    "#print ('Results:', [result[i] for i in range(len(result))])\n",
    "#print ('Mean:', pd.DataFrame(result).mean()[0])"
   ]
  },
  {
   "cell_type": "code",
   "execution_count": 75,
   "metadata": {
    "collapsed": false,
    "deletable": true,
    "editable": true
   },
   "outputs": [
    {
     "data": {
      "text/plain": [
       "0.5463650228186667"
      ]
     },
     "execution_count": 75,
     "metadata": {},
     "output_type": "execute_result"
    }
   ],
   "source": [
    "(0.546911660588 +\n",
    "0.545876360233 +\n",
    "0.546307047635) / 3"
   ]
  },
  {
   "cell_type": "code",
   "execution_count": null,
   "metadata": {
    "collapsed": true,
    "deletable": true,
    "editable": true
   },
   "outputs": [],
   "source": [
    "# Base score: \n",
    "\n",
    "# Results: [0.54940352297556172, 0.54789963135665087, 0.54591774101478707]\n",
    "# Mean: 0.547740298449"
   ]
  },
  {
   "cell_type": "code",
   "execution_count": null,
   "metadata": {
    "collapsed": true,
    "deletable": true,
    "editable": true
   },
   "outputs": [],
   "source": [
    "# Is that all there is? Not great so far. \n",
    "\n",
    "# No. There is a little bit more."
   ]
  },
  {
   "cell_type": "markdown",
   "metadata": {
    "deletable": true,
    "editable": true
   },
   "source": [
    "# CV and Semenych"
   ]
  },
  {
   "cell_type": "code",
   "execution_count": 77,
   "metadata": {
    "collapsed": false,
    "deletable": true,
    "editable": true
   },
   "outputs": [
    {
     "name": "stderr",
     "output_type": "stream",
     "text": [
      "/home/ivan/anaconda3/lib/python3.5/site-packages/ipykernel/__main__.py:21: SettingWithCopyWarning: \n",
      "A value is trying to be set on a copy of a slice from a DataFrame.\n",
      "Try using .loc[row_indexer,col_indexer] = value instead\n",
      "\n",
      "See the caveats in the documentation: http://pandas.pydata.org/pandas-docs/stable/indexing.html#indexing-view-versus-copy\n",
      "/home/ivan/anaconda3/lib/python3.5/site-packages/ipykernel/__main__.py:22: SettingWithCopyWarning: \n",
      "A value is trying to be set on a copy of a slice from a DataFrame.\n",
      "Try using .loc[row_indexer,col_indexer] = value instead\n",
      "\n",
      "See the caveats in the documentation: http://pandas.pydata.org/pandas-docs/stable/indexing.html#indexing-view-versus-copy\n",
      "/home/ivan/anaconda3/lib/python3.5/site-packages/pandas/core/indexing.py:477: SettingWithCopyWarning: \n",
      "A value is trying to be set on a copy of a slice from a DataFrame.\n",
      "Try using .loc[row_indexer,col_indexer] = value instead\n",
      "\n",
      "See the caveats in the documentation: http://pandas.pydata.org/pandas-docs/stable/indexing.html#indexing-view-versus-copy\n",
      "  self.obj[item] = s\n"
     ]
    },
    {
     "name": "stdout",
     "output_type": "stream",
     "text": [
      "score_group\n",
      "   id  score  score_group  is_duplicate  sem_score_group\n",
      "1   1  0.381           38             0            0.419\n",
      "3   3  0.000            0             0            0.001\n",
      "4   4  0.200           20             0            0.092\n",
      "time 10.180775880813599\n"
     ]
    },
    {
     "name": "stderr",
     "output_type": "stream",
     "text": [
      "/home/ivan/anaconda3/lib/python3.5/site-packages/ipykernel/__main__.py:21: SettingWithCopyWarning: \n",
      "A value is trying to be set on a copy of a slice from a DataFrame.\n",
      "Try using .loc[row_indexer,col_indexer] = value instead\n",
      "\n",
      "See the caveats in the documentation: http://pandas.pydata.org/pandas-docs/stable/indexing.html#indexing-view-versus-copy\n",
      "/home/ivan/anaconda3/lib/python3.5/site-packages/ipykernel/__main__.py:22: SettingWithCopyWarning: \n",
      "A value is trying to be set on a copy of a slice from a DataFrame.\n",
      "Try using .loc[row_indexer,col_indexer] = value instead\n",
      "\n",
      "See the caveats in the documentation: http://pandas.pydata.org/pandas-docs/stable/indexing.html#indexing-view-versus-copy\n",
      "/home/ivan/anaconda3/lib/python3.5/site-packages/pandas/core/indexing.py:477: SettingWithCopyWarning: \n",
      "A value is trying to be set on a copy of a slice from a DataFrame.\n",
      "Try using .loc[row_indexer,col_indexer] = value instead\n",
      "\n",
      "See the caveats in the documentation: http://pandas.pydata.org/pandas-docs/stable/indexing.html#indexing-view-versus-copy\n",
      "  self.obj[item] = s\n"
     ]
    },
    {
     "name": "stdout",
     "output_type": "stream",
     "text": [
      "score_group\n",
      "   id  score  score_group  is_duplicate  sem_score_group\n",
      "0   0  0.923           92             0            0.400\n",
      "2   2  0.333           33             0            0.340\n",
      "3   3  0.000            0             0            0.001\n",
      "time 10.372471809387207\n"
     ]
    },
    {
     "name": "stderr",
     "output_type": "stream",
     "text": [
      "/home/ivan/anaconda3/lib/python3.5/site-packages/ipykernel/__main__.py:21: SettingWithCopyWarning: \n",
      "A value is trying to be set on a copy of a slice from a DataFrame.\n",
      "Try using .loc[row_indexer,col_indexer] = value instead\n",
      "\n",
      "See the caveats in the documentation: http://pandas.pydata.org/pandas-docs/stable/indexing.html#indexing-view-versus-copy\n",
      "/home/ivan/anaconda3/lib/python3.5/site-packages/ipykernel/__main__.py:22: SettingWithCopyWarning: \n",
      "A value is trying to be set on a copy of a slice from a DataFrame.\n",
      "Try using .loc[row_indexer,col_indexer] = value instead\n",
      "\n",
      "See the caveats in the documentation: http://pandas.pydata.org/pandas-docs/stable/indexing.html#indexing-view-versus-copy\n",
      "/home/ivan/anaconda3/lib/python3.5/site-packages/pandas/core/indexing.py:477: SettingWithCopyWarning: \n",
      "A value is trying to be set on a copy of a slice from a DataFrame.\n",
      "Try using .loc[row_indexer,col_indexer] = value instead\n",
      "\n",
      "See the caveats in the documentation: http://pandas.pydata.org/pandas-docs/stable/indexing.html#indexing-view-versus-copy\n",
      "  self.obj[item] = s\n"
     ]
    },
    {
     "name": "stdout",
     "output_type": "stream",
     "text": [
      "score_group\n",
      "   id  score  score_group  is_duplicate  sem_score_group\n",
      "0   0  0.923           92             0            0.412\n",
      "1   1  0.381           38             0            0.417\n",
      "2   2  0.333           33             0            0.335\n",
      "time 10.541922092437744\n",
      "Results: [0.54742358920074652, 0.5461395012438649, 0.54385481283442283]\n",
      "Mean: 0.54580596776\n"
     ]
    },
    {
     "data": {
      "image/png": "[encoded data removed]",
      "text/plain": [
       "<matplotlib.figure.Figure at 0x7ff753d6a9b0>"
      ]
     },
     "metadata": {},
     "output_type": "display_data"
    },
    {
     "data": {
      "image/png": "[encoded data removed]",
      "text/plain": [
       "<matplotlib.figure.Figure at 0x7ff753c85748>"
      ]
     },
     "metadata": {},
     "output_type": "display_data"
    },
    {
     "data": {
      "image/png": "[encoded data removed]",
      "text/plain": [
       "<matplotlib.figure.Figure at 0x7ff78ccb7198>"
      ]
     },
     "metadata": {},
     "output_type": "display_data"
    }
   ],
   "source": [
    "# Let's build  model using 3-fold CV. And Semenych inside.\n",
    "\n",
    "params = {'objective':'binary:logistic',\n",
    "         'n_estimators':100,\n",
    "         'learning_rate':0.02,\n",
    "         'max_depth':3,\n",
    "         'nthread':-1,\n",
    "         'base_score':0.5}\n",
    "\n",
    "clf = xgb.XGBClassifier(**params)\n",
    "\n",
    "kf = KFold(n_splits=3, shuffle=True, random_state=42)\n",
    "\n",
    "result = []\n",
    "\n",
    "for train, test in kf.split(X_train):\n",
    "    \n",
    "    data_train = X_train.iloc[train][['id','score','score_group','is_duplicate']]\n",
    "    data_test = X_train.iloc[test][['id','score','score_group','is_duplicate']]\n",
    "    \n",
    "\n",
    "    \n",
    "    start = time()\n",
    "\n",
    "    cat_features = ['score_group']\n",
    "\n",
    "    for feature in cat_features:\n",
    "    \n",
    "        data_train['sem_' + feature] = 0\n",
    "        data_test['sem_' + feature] = 0\n",
    "    \n",
    "        sem_train = data_train[[feature, 'sem_' + feature, 'is_duplicate']]\n",
    "        sem_test = data_test[[feature, 'sem_' + feature, 'is_duplicate']]\n",
    "    \n",
    "        sem_results = Semenych(sem_train, sem_test, N_SPLITS=3, alpha=10)\n",
    "    \n",
    "        print (feature)\n",
    "    \n",
    "        data_train['sem_' + feature] = sem_results[0]['sem_' + feature]\n",
    "        data_test['sem_' + feature] = sem_results[1]['sem_' + feature]\n",
    "        \n",
    "        print (data_train.head(3))\n",
    "\n",
    "    print ('time', time() - start)\n",
    "    \n",
    "    clf.fit(data_train[['id','score','score_group','sem_score_group']], data_train['is_duplicate'])\n",
    "\n",
    "    pred = clf.predict_proba(data_test[['id','score','score_group','sem_score_group']])\n",
    "    true = data_test['is_duplicate'].values\n",
    "    \n",
    "    xgb.plot_importance(clf)\n",
    "    \n",
    "    result += [log_loss(true, pred)]\n",
    "       \n",
    "    \n",
    "print ('Results:', [result[i] for i in range(len(result))])\n",
    "print ('Mean:', pd.DataFrame(result).mean()[0])"
   ]
  },
  {
   "cell_type": "code",
   "execution_count": null,
   "metadata": {
    "collapsed": true,
    "deletable": true,
    "editable": true
   },
   "outputs": [],
   "source": [
    "# Semenych results...\n",
    "#Results: [0.54742358920074652, 0.5461395012438649, 0.54385481283442283]\n",
    "#Mean: 0.54580596776"
   ]
  },
  {
   "cell_type": "code",
   "execution_count": null,
   "metadata": {
    "collapsed": true
   },
   "outputs": [],
   "source": [
    "# Base results:\n",
    "# Results: [0.54940352297556172, 0.54789963135665087, 0.54591774101478707]\n",
    "# Mean: 0.547740298449"
   ]
  },
  {
   "cell_type": "markdown",
   "metadata": {},
   "source": [
    "# Spell check"
   ]
  },
  {
   "cell_type": "code",
   "execution_count": 5,
   "metadata": {
    "collapsed": true,
    "deletable": true,
    "editable": true
   },
   "outputs": [],
   "source": [
    "# http://norvig.com/spell-correct.html, Peter Norvig, get big.txt from the link for this to work.\n",
    "\n",
    "import re\n",
    "from collections import Counter\n",
    "\n",
    "def words(text): return re.findall(r'\\w+', text.lower())\n",
    "\n",
    "WORDS = Counter(words(open('big.txt').read()))\n",
    "\n",
    "def P(word, N=sum(WORDS.values())): \n",
    "    \"Probability of `word`.\"\n",
    "    return WORDS[word] / N\n",
    "\n",
    "def correction(word): \n",
    "    \"Most probable spelling correction for word.\"\n",
    "    return max(candidates(word), key=P)\n",
    "\n",
    "def candidates(word): \n",
    "    \"Generate possible spelling corrections for word.\"\n",
    "    return (known([word]) or known(edits1(word)) or known(edits2(word)) or [word])\n",
    "\n",
    "def known(words): \n",
    "    \"The subset of `words` that appear in the dictionary of WORDS.\"\n",
    "    return set(w for w in words if w in WORDS)\n",
    "\n",
    "def edits1(word):\n",
    "    \"All edits that are one edit away from `word`.\"\n",
    "    letters    = 'abcdefghijklmnopqrstuvwxyz'\n",
    "    splits     = [(word[:i], word[i:])    for i in range(len(word) + 1)]\n",
    "    deletes    = [L + R[1:]               for L, R in splits if R]\n",
    "    transposes = [L + R[1] + R[0] + R[2:] for L, R in splits if len(R)>1]\n",
    "    replaces   = [L + c + R[1:]           for L, R in splits if R for c in letters]\n",
    "    inserts    = [L + c + R               for L, R in splits for c in letters]\n",
    "    return set(deletes + transposes + replaces + inserts)\n",
    "\n",
    "def edits2(word): \n",
    "    \"All edits that are two edits away from `word`.\"\n",
    "    return (e2 for e1 in edits1(word) for e2 in edits1(e1))"
   ]
  },
  {
   "cell_type": "code",
   "execution_count": 43,
   "metadata": {
    "collapsed": false,
    "deletable": true,
    "editable": true
   },
   "outputs": [
    {
     "data": {
      "text/plain": [
       "'world'"
      ]
     },
     "execution_count": 43,
     "metadata": {},
     "output_type": "execute_result"
    }
   ],
   "source": [
    "correction('wrld')"
   ]
  },
  {
   "cell_type": "code",
   "execution_count": null,
   "metadata": {
    "collapsed": true
   },
   "outputs": [],
   "source": [
    "# We now know that there is a better formula! But at the time..."
   ]
  },
  {
   "cell_type": "code",
   "execution_count": 10,
   "metadata": {
    "collapsed": false,
    "deletable": true,
    "editable": true
   },
   "outputs": [],
   "source": [
    "def Spell_Check_and_Score(cell):\n",
    "    \n",
    "#    words1 = [w.lower() for w in str(cell['question1']).split()]\n",
    "#    words2 = [w.lower() for w in str(cell['question2']).split()]\n",
    "    \n",
    "#    checked_words1 = [correction(w) for w in words1]\n",
    "#    checked_words2 = [correction(w) for w in words2]\n",
    "\n",
    "    checked_words1 = [correction(w.lower()) for w in str(cell['question1']).split()]\n",
    "    checked_words2 = [correction(w.lower()) for w in str(cell['question2']).split()]\n",
    "    \n",
    "#    n1 = len(set(checked_words1 + words1)) - len(set(words1))\n",
    "#    n2 = len(set(checked_words2 + words2)) - len(set(words2))\n",
    "    \n",
    "#    print (cell['id'], end=', ')\n",
    "    \n",
    "    return (2 * len([w for w in checked_words1 if w in checked_words2]) / (len(checked_words1) + len(checked_words2)))    "
   ]
  },
  {
   "cell_type": "code",
   "execution_count": 18,
   "metadata": {
    "collapsed": false,
    "deletable": true,
    "editable": true
   },
   "outputs": [
    {
     "name": "stdout",
     "output_type": "stream",
     "text": [
      "final time 5672.553874969482\n"
     ]
    }
   ],
   "source": [
    "start = time()\n",
    "\n",
    "# X_train['spell_check_score'] = X_train.iloc[:10].apply(Spell_Check_and_Score, axis=1)\n",
    "\n",
    "# This is how I call a multiprocessing to help\n",
    "\n",
    "X_train['spell_check_score'] = apply_parallel(X_train, partial(process, func=partial(Spell_Check_and_Score))) \n",
    "\n",
    "print ('final time', time() - start) # for a 1000 but we have 400 times of that..."
   ]
  },
  {
   "cell_type": "code",
   "execution_count": null,
   "metadata": {
    "collapsed": true,
    "deletable": true,
    "editable": true
   },
   "outputs": [],
   "source": [
    "# It actually took 2 hours on 26 cores, so think before running."
   ]
  },
  {
   "cell_type": "code",
   "execution_count": 19,
   "metadata": {
    "collapsed": true,
    "deletable": true,
    "editable": true
   },
   "outputs": [],
   "source": [
    "X_train.to_csv('spelled.csv') # I can share the file, it is somewhere... but better to re-calculate it and \n",
    "# use hunspell -- must be more optimized?"
   ]
  },
  {
   "cell_type": "code",
   "execution_count": null,
   "metadata": {
    "collapsed": true,
    "deletable": true,
    "editable": true
   },
   "outputs": [],
   "source": []
  },
  {
   "cell_type": "code",
   "execution_count": 14,
   "metadata": {
    "collapsed": false,
    "deletable": true,
    "editable": true
   },
   "outputs": [
    {
     "data": {
      "text/html": [
       "<div>\n",
       "<table border=\"1\" class=\"dataframe\">\n",
       "  <thead>\n",
       "    <tr style=\"text-align: right;\">\n",
       "      <th></th>\n",
       "      <th>id</th>\n",
       "      <th>qid1</th>\n",
       "      <th>qid2</th>\n",
       "      <th>is_duplicate</th>\n",
       "      <th>spell_check_score</th>\n",
       "    </tr>\n",
       "  </thead>\n",
       "  <tbody>\n",
       "    <tr>\n",
       "      <th>count</th>\n",
       "      <td>404290.000</td>\n",
       "      <td>404290.000</td>\n",
       "      <td>404290.000</td>\n",
       "      <td>404290.000</td>\n",
       "      <td>1000.000</td>\n",
       "    </tr>\n",
       "    <tr>\n",
       "      <th>mean</th>\n",
       "      <td>202144.500</td>\n",
       "      <td>217243.942</td>\n",
       "      <td>220955.655</td>\n",
       "      <td>0.369</td>\n",
       "      <td>0.490</td>\n",
       "    </tr>\n",
       "    <tr>\n",
       "      <th>std</th>\n",
       "      <td>116708.615</td>\n",
       "      <td>157751.700</td>\n",
       "      <td>159903.183</td>\n",
       "      <td>0.483</td>\n",
       "      <td>0.260</td>\n",
       "    </tr>\n",
       "    <tr>\n",
       "      <th>min</th>\n",
       "      <td>0.000</td>\n",
       "      <td>1.000</td>\n",
       "      <td>2.000</td>\n",
       "      <td>0.000</td>\n",
       "      <td>0.000</td>\n",
       "    </tr>\n",
       "    <tr>\n",
       "      <th>25%</th>\n",
       "      <td>101072.250</td>\n",
       "      <td>74437.500</td>\n",
       "      <td>74727.000</td>\n",
       "      <td>0.000</td>\n",
       "      <td>0.291</td>\n",
       "    </tr>\n",
       "    <tr>\n",
       "      <th>50%</th>\n",
       "      <td>202144.500</td>\n",
       "      <td>192182.000</td>\n",
       "      <td>197052.000</td>\n",
       "      <td>0.000</td>\n",
       "      <td>0.500</td>\n",
       "    </tr>\n",
       "    <tr>\n",
       "      <th>75%</th>\n",
       "      <td>303216.750</td>\n",
       "      <td>346573.500</td>\n",
       "      <td>354692.500</td>\n",
       "      <td>1.000</td>\n",
       "      <td>0.700</td>\n",
       "    </tr>\n",
       "    <tr>\n",
       "      <th>max</th>\n",
       "      <td>404289.000</td>\n",
       "      <td>537932.000</td>\n",
       "      <td>537933.000</td>\n",
       "      <td>1.000</td>\n",
       "      <td>1.000</td>\n",
       "    </tr>\n",
       "  </tbody>\n",
       "</table>\n",
       "</div>"
      ],
      "text/plain": [
       "              id       qid1       qid2  is_duplicate  spell_check_score\n",
       "count 404290.000 404290.000 404290.000    404290.000           1000.000\n",
       "mean  202144.500 217243.942 220955.655         0.369              0.490\n",
       "std   116708.615 157751.700 159903.183         0.483              0.260\n",
       "min        0.000      1.000      2.000         0.000              0.000\n",
       "25%   101072.250  74437.500  74727.000         0.000              0.291\n",
       "50%   202144.500 192182.000 197052.000         0.000              0.500\n",
       "75%   303216.750 346573.500 354692.500         1.000              0.700\n",
       "max   404289.000 537932.000 537933.000         1.000              1.000"
      ]
     },
     "execution_count": 14,
     "metadata": {},
     "output_type": "execute_result"
    }
   ],
   "source": [
    "X_train.describe()"
   ]
  },
  {
   "cell_type": "code",
   "execution_count": null,
   "metadata": {
    "collapsed": true,
    "deletable": true,
    "editable": true
   },
   "outputs": [],
   "source": [
    "# This is the easiest known way to multi-process:"
   ]
  },
  {
   "cell_type": "code",
   "execution_count": 7,
   "metadata": {
    "collapsed": true,
    "deletable": true,
    "editable": true
   },
   "outputs": [],
   "source": [
    "from functools import partial\n",
    "import multiprocessing as mp"
   ]
  },
  {
   "cell_type": "code",
   "execution_count": 8,
   "metadata": {
    "collapsed": true,
    "deletable": true,
    "editable": true
   },
   "outputs": [],
   "source": [
    "def process(df, func):\n",
    "\n",
    "    return df.apply(func, axis=1)\n",
    "\n",
    "\n",
    "\n",
    "def apply_parallel(big_data, apply_func):\n",
    "\n",
    "    cpus = mp.cpu_count() - 2 # Leave two cores to continue working\n",
    "\n",
    "    with mp.Pool(processes=cpus) as p:\n",
    "\n",
    "        split_dfs = np.array_split(big_data, cpus, axis=0)\n",
    "\n",
    "        df_pool_results = p.map(apply_func, split_dfs)\n",
    "\n",
    "    result = pd.concat(df_pool_results, axis=0)\n",
    "\n",
    "    return result"
   ]
  },
  {
   "cell_type": "code",
   "execution_count": null,
   "metadata": {
    "collapsed": true,
    "deletable": true,
    "editable": true
   },
   "outputs": [],
   "source": []
  },
  {
   "cell_type": "code",
   "execution_count": 20,
   "metadata": {
    "collapsed": true,
    "deletable": true,
    "editable": true
   },
   "outputs": [],
   "source": [
    "# Groups out of scores\n",
    "\n",
    "X_train['spell_check_score_group'] = ((X_train['spell_check_score'] * 100).round()).astype(int)"
   ]
  },
  {
   "cell_type": "code",
   "execution_count": 22,
   "metadata": {
    "collapsed": false,
    "deletable": true,
    "editable": true,
    "scrolled": true
   },
   "outputs": [
    {
     "name": "stdout",
     "output_type": "stream",
     "text": [
      "Results: [0.56345860727226682, 0.56189888995416537, 0.55970992384725848]\n",
      "Mean: 0.561689140358\n"
     ]
    }
   ],
   "source": [
    "params = {'objective':'binary:logistic',\n",
    "         'n_estimators':100,\n",
    "         'learning_rate':0.02,\n",
    "         'max_depth':3,\n",
    "         'nthread':-1,\n",
    "         'base_score':0.5}\n",
    "\n",
    "clf = xgb.XGBClassifier(**params)\n",
    "\n",
    "kf = KFold(n_splits=3, shuffle=True, random_state=42)\n",
    "\n",
    "result = []\n",
    "\n",
    "for train, test in kf.split(X_train):\n",
    "    \n",
    "    data_train = X_train.iloc[train][['id','spell_check_score','spell_check_score_group','is_duplicate']]\n",
    "    data_test = X_train.iloc[test][['id','spell_check_score','spell_check_score_group','is_duplicate']]\n",
    "    \n",
    "    clf.fit(data_train[['id','spell_check_score','spell_check_score_group']], data_train['is_duplicate'])\n",
    "\n",
    "    pred = clf.predict_proba(data_test[['id','spell_check_score','spell_check_score_group']])\n",
    "    true = data_test['is_duplicate'].values\n",
    "    \n",
    "#    xgb.plot_importance(clf)\n",
    "    \n",
    "    result += [log_loss(true, pred)]\n",
    "       \n",
    "    \n",
    "print ('Results:', [result[i] for i in range(len(result))])\n",
    "print ('Mean:', pd.DataFrame(result).mean()[0])"
   ]
  },
  {
   "cell_type": "markdown",
   "metadata": {},
   "source": [
    "# Wait! Do you say it is WORSE with spell check? "
   ]
  },
  {
   "cell_type": "code",
   "execution_count": null,
   "metadata": {
    "collapsed": true
   },
   "outputs": [],
   "source": []
  },
  {
   "cell_type": "code",
   "execution_count": null,
   "metadata": {
    "collapsed": true
   },
   "outputs": [],
   "source": []
  },
  {
   "cell_type": "code",
   "execution_count": null,
   "metadata": {
    "collapsed": true
   },
   "outputs": [],
   "source": []
  },
  {
   "cell_type": "code",
   "execution_count": 28,
   "metadata": {
    "collapsed": false,
    "deletable": true,
    "editable": true
   },
   "outputs": [
    {
     "data": {
      "text/plain": [
       "Index(['id', 'qid1', 'qid2', 'question1', 'question2', 'is_duplicate',\n",
       "       'spell_check_score', 'spell_check_score_group', 'score', 'score_group'],\n",
       "      dtype='object')"
      ]
     },
     "execution_count": 28,
     "metadata": {},
     "output_type": "execute_result"
    }
   ],
   "source": [
    "X_train.columns"
   ]
  },
  {
   "cell_type": "code",
   "execution_count": 32,
   "metadata": {
    "collapsed": false,
    "deletable": true,
    "editable": true
   },
   "outputs": [
    {
     "name": "stdout",
     "output_type": "stream",
     "text": [
      "Results: [0.54888471182482079, 0.54742154124689801, 0.54545303718273197]\n",
      "Mean: 0.547253096751\n"
     ]
    },
    {
     "data": {
      "image/png": "[encoded data removed]",
      "text/plain": [
       "<matplotlib.figure.Figure at 0x7fda5ae07f98>"
      ]
     },
     "metadata": {},
     "output_type": "display_data"
    },
    {
     "data": {
      "image/png": "[encoded data removed]",
      "text/plain": [
       "<matplotlib.figure.Figure at 0x7fda5adf8d68>"
      ]
     },
     "metadata": {},
     "output_type": "display_data"
    },
    {
     "data": {
      "image/png": "[encoded data removed]",
      "text/plain": [
       "<matplotlib.figure.Figure at 0x7fda5ae09400>"
      ]
     },
     "metadata": {},
     "output_type": "display_data"
    }
   ],
   "source": [
    "params = {'objective':'binary:logistic',\n",
    "         'n_estimators':100,\n",
    "         'learning_rate':0.02,\n",
    "         'max_depth':3,\n",
    "         'nthread':-1,\n",
    "         'base_score':0.5}\n",
    "\n",
    "clf = xgb.XGBClassifier(**params)\n",
    "\n",
    "kf = KFold(n_splits=3, shuffle=True, random_state=42)\n",
    "\n",
    "result = []\n",
    "\n",
    "features = ['id','spell_check_score','spell_check_score_group','score','score_group','is_duplicate']\n",
    "feats = ['id','spell_check_score','spell_check_score_group','score','score_group']\n",
    "\n",
    "for train, test in kf.split(X_train):\n",
    "    \n",
    "    data_train = X_train.iloc[train][features]\n",
    "    data_test = X_train.iloc[test][features]\n",
    "    \n",
    "    clf.fit(data_train[feats], data_train['is_duplicate'])\n",
    "\n",
    "    pred = clf.predict_proba(data_test[feats])\n",
    "    true = data_test['is_duplicate'].values\n",
    "    \n",
    "    xgb.plot_importance(clf)\n",
    "    \n",
    "    result += [log_loss(true, pred)]\n",
    "       \n",
    "    \n",
    "print ('Results:', [result[i] for i in range(len(result))])\n",
    "print ('Mean:', pd.DataFrame(result).mean()[0])"
   ]
  },
  {
   "cell_type": "code",
   "execution_count": null,
   "metadata": {
    "collapsed": true,
    "deletable": true,
    "editable": true
   },
   "outputs": [],
   "source": [
    "# But helps a little when there is the original score!"
   ]
  }
 ],
 "metadata": {
  "kernelspec": {
   "display_name": "Python 3",
   "language": "python",
   "name": "python3"
  },
  "language_info": {
   "codemirror_mode": {
    "name": "ipython",
    "version": 3
   },
   "file_extension": ".py",
   "mimetype": "text/x-python",
   "name": "python",
   "nbconvert_exporter": "python",
   "pygments_lexer": "ipython3",
   "version": "3.5.3"
  }
 },
 "nbformat": 4,
 "nbformat_minor": 2
}
